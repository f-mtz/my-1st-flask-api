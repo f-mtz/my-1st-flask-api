{
  "nbformat": 4,
  "nbformat_minor": 0,
  "metadata": {
    "colab": {
      "provenance": []
    },
    "kernelspec": {
      "name": "python3",
      "display_name": "Python 3"
    },
    "language_info": {
      "name": "python"
    }
  },
  "cells": [
    {
      "cell_type": "code",
      "execution_count": 1,
      "metadata": {
        "id": "oyHQjHQ3S_vH"
      },
      "outputs": [],
      "source": [
        "import requests"
      ]
    },
    {
      "cell_type": "code",
      "source": [
        "url = \"http://localhost:5000/cotacao/\""
      ],
      "metadata": {
        "id": "AuZhET_sTCvu"
      },
      "execution_count": null,
      "outputs": []
    },
    {
      "cell_type": "code",
      "source": [
        "payload = {\n",
        "    \"tamanho\": 120,\n",
        "    \"ano\": 2001,\n",
        "    \"garagem\": 2\n",
        "}\n"
      ],
      "metadata": {
        "id": "iN7LZiitTMMz"
      },
      "execution_count": null,
      "outputs": []
    },
    {
      "cell_type": "code",
      "source": [
        "auth = requests.auth.HTTPBasicAuth('admin','admin')"
      ],
      "metadata": {
        "id": "ycI8u3dCTPZL"
      },
      "execution_count": null,
      "outputs": []
    },
    {
      "cell_type": "code",
      "source": [
        "# response = requests.request(\"POST\", url, json=payload, auth=auth)\n",
        "requests.post(url, json=payload, auth=auth)"
      ],
      "metadata": {
        "id": "Iuw9OzI2TU14"
      },
      "execution_count": null,
      "outputs": []
    },
    {
      "cell_type": "code",
      "source": [
        "response.status_code"
      ],
      "metadata": {
        "id": "yZXZA_t3Td2U"
      },
      "execution_count": null,
      "outputs": []
    },
    {
      "cell_type": "code",
      "source": [
        "response.txt"
      ],
      "metadata": {
        "id": "3LKipSm-TgJm"
      },
      "execution_count": null,
      "outputs": []
    },
    {
      "cell_type": "code",
      "source": [
        "response.json()"
      ],
      "metadata": {
        "id": "fAF1EjevUtO_"
      },
      "execution_count": null,
      "outputs": []
    }
  ]
}